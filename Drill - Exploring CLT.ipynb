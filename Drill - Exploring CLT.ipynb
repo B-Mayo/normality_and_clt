{
 "cells": [
  {
   "cell_type": "markdown",
   "metadata": {},
   "source": [
    "# Drill - Exploring the Central Limit Theorem"
   ]
  },
  {
   "cell_type": "code",
   "execution_count": 1,
   "metadata": {},
   "outputs": [],
   "source": [
    "import numpy as np\n",
    "import pandas as pd\n",
    "import scipy\n",
    "import matplotlib.pyplot as plt\n",
    "%matplotlib inline"
   ]
  },
  {
   "cell_type": "code",
   "execution_count": 8,
   "metadata": {},
   "outputs": [],
   "source": [
    "pop1 = np.random.binomial(10, 0.2, 10000)\n",
    "pop2 = np.random.binomial(10,0.5, 10000)\n",
    "\n",
    "sample1 = np.random.choice(pop1, 100, replace=True)\n",
    "sample2 = np.random.choice(pop2, 100, replace=True)"
   ]
  },
  {
   "cell_type": "code",
   "execution_count": 13,
   "metadata": {},
   "outputs": [
    {
     "data": {
      "image/png": "[encoded data removed]",
      "text/plain": [
       "<Figure size 1440x360 with 2 Axes>"
      ]
     },
     "metadata": {},
     "output_type": "display_data"
    }
   ],
   "source": [
    "sample1_1000 = np.random.choice(pop1, 1000, replace=True)\n",
    "sample2_1000 = np.random.choice(pop2, 1000, replace=True)\n",
    "\n",
    "sample1_20 = np.random.choice(pop1, 20, replace=True)\n",
    "sample2_20 = np.random.choice(pop2, 20, replace=True)\n",
    "\n",
    "\n",
    "plt.figure(figsize=(20,5))\n",
    "\n",
    "plt.subplot(1,2,1)\n",
    "plt.hist(sample1_1000, alpha=0.5, label='sample 1_1000')\n",
    "plt.hist(sample2_1000, alpha=0.5, label='sample 2_1000')\n",
    "plt.legend(loc='upper right') \n",
    "\n",
    "plt.subplot(1,2,2)\n",
    "plt.hist(sample1_20, alpha=0.5, label='sample 1_20')\n",
    "plt.hist(sample2_20, alpha=0.5, label='sample 2_20')\n",
    "plt.legend(loc='upper right') \n",
    "\n",
    "plt.tight_layout()\n",
    "plt.show()"
   ]
  },
  {
   "cell_type": "code",
   "execution_count": 14,
   "metadata": {},
   "outputs": [
    {
     "name": "stdout",
     "output_type": "stream",
     "text": [
      "Ttest_indResult(statistic=15.528925118048583, pvalue=4.467981227677191e-36)\n",
      "Ttest_indResult(statistic=46.27910805949113, pvalue=3.91620011889e-312)\n",
      "Ttest_indResult(statistic=8.589901499260064, pvalue=1.1755363513541804e-08)\n"
     ]
    }
   ],
   "source": [
    "#question 1\n",
    "\n",
    "from scipy.stats import ttest_ind\n",
    "print(ttest_ind(sample2, sample1, equal_var=False))\n",
    "print(ttest_ind(sample2_1000, sample1_1000, equal_var=False))\n",
    "print(ttest_ind(sample2_20, sample1_20, equal_var=False))"
   ]
  },
  {
   "cell_type": "code",
   "execution_count": 15,
   "metadata": {},
   "outputs": [
    {
     "name": "stdout",
     "output_type": "stream",
     "text": [
      "0.3 leads to Ttest_indResult(statistic=7.912604292097698, pvalue=1.9033776659835482e-13)\n",
      "0.4 leads to Ttest_indResult(statistic=10.956093277236073, pvalue=6.647176582535798e-22)\n"
     ]
    }
   ],
   "source": [
    "#question 2 \n",
    "\n",
    "pop1 = np.random.binomial(10, 0.3, 10000)\n",
    "pop2 = np.random.binomial(10, 0.5, 10000)\n",
    "\n",
    "sample1 = np.random.choice(pop1, 100, replace=True)\n",
    "sample2 = np.random.choice(pop2, 100, replace=True)\n",
    "\n",
    "print('0.3 leads to', ttest_ind(sample2, sample1, equal_var=False))\n",
    "\n",
    "pop1 = np.random.binomial(10, 0.3, 10000)\n",
    "pop2 = np.random.binomial(10,0.5, 10000)\n",
    "\n",
    "sample1 = np.random.choice(pop1, 100, replace=True)\n",
    "sample2 = np.random.choice(pop2, 100, replace=True)\n",
    "\n",
    "print('0.4 leads to', ttest_ind(sample2, sample1, equal_var=False))\n"
   ]
  },
  {
   "cell_type": "markdown",
   "metadata": {},
   "source": [
    "As the p value 0.3 changed to 0.4, the T value increased and the P value increased. This is expected as the probability between groups 1 and 2 become more align as group 1's p value gets closer to group 2's. "
   ]
  },
  {
   "cell_type": "code",
   "execution_count": 32,
   "metadata": {},
   "outputs": [
    {
     "name": "stdout",
     "output_type": "stream",
     "text": [
      "Ttest_indResult(statistic=14.687812614378387, pvalue=3.682032582251887e-30)\n"
     ]
    }
   ],
   "source": [
    "#question 3 \n",
    "\n",
    "pop1 = np.random.gumbel(5,1,10000)\n",
    "pop2 = np.random.gumbel(10,3,10000)\n",
    "\n",
    "sample1 = np.random.choice(pop1, 100, replace=True)\n",
    "sample2 = np.random.choice(pop2, 100, replace=True)\n",
    "\n",
    "print(ttest_ind(sample2, sample1, equal_var=False))"
   ]
  }
 ],
 "metadata": {
  "kernelspec": {
   "display_name": "Python 3",
   "language": "python",
   "name": "python3"
  },
  "language_info": {
   "codemirror_mode": {
    "name": "ipython",
    "version": 3
   },
   "file_extension": ".py",
   "mimetype": "text/x-python",
   "name": "python",
   "nbconvert_exporter": "python",
   "pygments_lexer": "ipython3",
   "version": "3.6.5"
  }
 },
 "nbformat": 4,
 "nbformat_minor": 2
}
